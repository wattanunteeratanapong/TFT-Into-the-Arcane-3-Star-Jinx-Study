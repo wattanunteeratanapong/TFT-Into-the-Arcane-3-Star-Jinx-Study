{
 "cells": [
  {
   "cell_type": "code",
   "execution_count": 1,
   "id": "2a52516e-dc42-4f04-97b3-5ef3ca4e0313",
   "metadata": {},
   "outputs": [],
   "source": [
    "import random"
   ]
  },
  {
   "cell_type": "code",
   "execution_count": 2,
   "id": "708c9e92-f670-49eb-9c8c-4d9b5b3ca832",
   "metadata": {},
   "outputs": [],
   "source": [
    "# Create and assign units to the pool\n",
    "\n",
    "pool = []\n",
    "\n",
    "cost1 = []\n",
    "cost1_units = [\"Amumu\", \"Darius\", \"Draven\", \"Irelia\", \"Lux\", \"Maddie\", \"Morgana\", \"Powder\", \"Singed\", \"Steb\", \"Trundle\", \"Vex\", \"Violet\", \"Zyra\"]\n",
    "for unit in cost1_units:\n",
    "    for i in range(30):\n",
    "        cost1.append(unit)\n",
    "\n",
    "cost2 = []\n",
    "cost2_units = [\"Akali\", \"Camille\", \"Leona\", \"Nocturne\", \"Rell\", \"Renata\", \"Sett\", \"Tristana\", \"Urgot\", \"Vander\", \"Vladimir\", \"Zeri\", \"Ziggs\"]\n",
    "for unit in cost2_units:\n",
    "    for i in range(25):\n",
    "        cost2.append(unit)\n",
    "\n",
    "cost3 = []\n",
    "cost3_units = [\"Blitzcrank\", \"Cassiopeia\", \"Ezreal\", \"Gangplank\", \"Kogmaw\", \"Loris\", \"Nami\", \"Nunu\", \"Renni\", \"Scar\", \"Smeech\", \"Swain\", \"Twisted Fate\"]\n",
    "for unit in cost3_units:\n",
    "    for i in range(18):\n",
    "        cost3.append(unit)\n",
    "\n",
    "cost4 = []\n",
    "cost4_units = [\"Ambessa\", \"Corki\", \"Dr Mundo\", \"Ekko\", \"Elise\", \"Garen\", \"Heimerdinger\", \"Illaoi\", \"Silco\", \"Twitch\", \"Vi\", \"Zoe\"]\n",
    "for unit in cost4_units:\n",
    "    for i in range(10):\n",
    "        cost4.append(unit)\n",
    "\n",
    "cost5 = []\n",
    "cost5_units = [\"Caitlyn\", \"Jayce\", \"Jinx\", \"Leblanc\", \"Malzahar\", \"Mordekaiser\", \"Rumble\", \"Sevika\"]\n",
    "for unit in cost5_units:\n",
    "    for i in range(9):\n",
    "        cost5.append(unit)\n",
    "\n",
    "pool.append(cost1)\n",
    "pool.append(cost2)\n",
    "pool.append(cost3)\n",
    "pool.append(cost4)\n",
    "pool.append(cost5)"
   ]
  },
  {
   "cell_type": "code",
   "execution_count": 3,
   "id": "2cb674bf-201f-46b5-a00e-85951d60bbd9",
   "metadata": {},
   "outputs": [],
   "source": [
    "# Chance at Level 8\n",
    "# 1-cost : 18%\n",
    "# 2-cost : 25%\n",
    "# 3-cost : 32%\n",
    "# 4-cost : 22%\n",
    "# 5-cost : 3%\n",
    "\n",
    "def chance_to_get_cost():\n",
    "    num = random.randint(0, 100)\n",
    "    if num < 18:\n",
    "        return 1\n",
    "    elif num < 43:\n",
    "        return 2\n",
    "    elif num < 75:\n",
    "        return 3\n",
    "    elif num < 97:\n",
    "        return 4\n",
    "    else :\n",
    "        return 5\n",
    "\n",
    "def get_unit():\n",
    "    cost = chance_to_get_cost()\n",
    "    return f\"{cost} {random.choice(pool[cost-1])}\""
   ]
  },
  {
   "cell_type": "code",
   "execution_count": 4,
   "id": "5e83548b-959e-4111-91ea-52e830d74a38",
   "metadata": {},
   "outputs": [
    {
     "name": "stdout",
     "output_type": "stream",
     "text": [
      "2 Vander\n",
      "3 Loris\n",
      "2 Camille\n",
      "4 Zoe\n",
      "1 Lux\n"
     ]
    }
   ],
   "source": [
    "# 1 time reroll\n",
    "\n",
    "for i in range(5):\n",
    "    print(get_unit())"
   ]
  }
 ],
 "metadata": {
  "kernelspec": {
   "display_name": "Python 3 (ipykernel)",
   "language": "python",
   "name": "python3"
  },
  "language_info": {
   "codemirror_mode": {
    "name": "ipython",
    "version": 3
   },
   "file_extension": ".py",
   "mimetype": "text/x-python",
   "name": "python",
   "nbconvert_exporter": "python",
   "pygments_lexer": "ipython3",
   "version": "3.8.19"
  }
 },
 "nbformat": 4,
 "nbformat_minor": 5
}
