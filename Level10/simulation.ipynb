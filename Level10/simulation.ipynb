{
 "cells": [
  {
   "cell_type": "code",
   "execution_count": 1,
   "id": "5c03881c-4633-46cb-8c9c-830d0fe44ef9",
   "metadata": {},
   "outputs": [],
   "source": [
    "import random\n",
    "import matplotlib.pyplot as plt"
   ]
  },
  {
   "cell_type": "code",
   "execution_count": 2,
   "id": "a97751b1-3706-46ab-b9ed-2caca5af32dc",
   "metadata": {},
   "outputs": [],
   "source": [
    "# Create and assign units to the pool\n",
    "\n",
    "pool = []\n",
    "\n",
    "cost1 = []\n",
    "cost1_units = [\"Amumu\", \"Darius\", \"Draven\", \"Irelia\", \"Lux\", \"Maddie\", \"Morgana\", \"Powder\", \"Singed\", \"Steb\", \"Trundle\", \"Vex\", \"Violet\", \"Zyra\"]\n",
    "for unit in cost1_units:\n",
    "    for i in range(30):\n",
    "        cost1.append(unit)\n",
    "\n",
    "cost2 = []\n",
    "cost2_units = [\"Akali\", \"Camille\", \"Leona\", \"Nocturne\", \"Rell\", \"Renata\", \"Sett\", \"Tristana\", \"Urgot\", \"Vander\", \"Vladimir\", \"Zeri\", \"Ziggs\"]\n",
    "for unit in cost2_units:\n",
    "    for i in range(25):\n",
    "        cost2.append(unit)\n",
    "\n",
    "cost3 = []\n",
    "cost3_units = [\"Blitzcrank\", \"Cassiopeia\", \"Ezreal\", \"Gangplank\", \"Kogmaw\", \"Loris\", \"Nami\", \"Nunu\", \"Renni\", \"Scar\", \"Smeech\", \"Swain\", \"Twisted Fate\"]\n",
    "for unit in cost3_units:\n",
    "    for i in range(18):\n",
    "        cost3.append(unit)\n",
    "\n",
    "cost4 = []\n",
    "cost4_units = [\"Ambessa\", \"Corki\", \"Dr Mundo\", \"Ekko\", \"Elise\", \"Garen\", \"Heimerdinger\", \"Illaoi\", \"Silco\", \"Twitch\", \"Vi\", \"Zoe\"]\n",
    "for unit in cost4_units:\n",
    "    for i in range(10):\n",
    "        cost4.append(unit)\n",
    "\n",
    "cost5 = []\n",
    "cost5_units = [\"Caitlyn\", \"Jayce\", \"Jinx\", \"Leblanc\", \"Malzahar\", \"Mordekaiser\", \"Rumble\", \"Sevika\"]\n",
    "for unit in cost5_units:\n",
    "    for i in range(9):\n",
    "        cost5.append(unit)\n",
    "\n",
    "pool.append(cost1)\n",
    "pool.append(cost2)\n",
    "pool.append(cost3)\n",
    "pool.append(cost4)\n",
    "pool.append(cost5)"
   ]
  },
  {
   "cell_type": "code",
   "execution_count": 3,
   "id": "ed750243-1f08-4822-a8bf-9a0693672402",
   "metadata": {},
   "outputs": [],
   "source": [
    "# Chance at Level 10\n",
    "# 1-cost : 5%\n",
    "# 2-cost : 10%\n",
    "# 3-cost : 20%\n",
    "# 4-cost : 40%\n",
    "# 5-cost : 25%\n",
    "\n",
    "def chance_to_get_cost():\n",
    "    num = random.randint(0, 100)\n",
    "    if num < 5:\n",
    "        return 1\n",
    "    elif num < 15:\n",
    "        return 2\n",
    "    elif num < 35:\n",
    "        return 3\n",
    "    elif num < 75:\n",
    "        return 4\n",
    "    else :\n",
    "        return 5\n",
    "\n",
    "def get_unit():\n",
    "    cost = chance_to_get_cost()\n",
    "    return f\"{cost} {random.choice(pool[cost-1])}\""
   ]
  },
  {
   "cell_type": "code",
   "execution_count": 4,
   "id": "3cdf1ee4-e953-444c-bd4a-ea746d883537",
   "metadata": {
    "editable": true,
    "slideshow": {
     "slide_type": ""
    },
    "tags": []
   },
   "outputs": [],
   "source": [
    "# Simulation to find jinx\n",
    "\n",
    "times = 100000\n",
    "gold_stats = []\n",
    "\n",
    "for i in range(times):\n",
    "    gold = 0\n",
    "    shop_count = 0\n",
    "    jinx_count = 0\n",
    "    \n",
    "    pool[4] = cost5.copy()\n",
    "    \n",
    "    while jinx_count < 9:\n",
    "        unit = get_unit()\n",
    "        if \"Jinx\" in unit:\n",
    "            jinx_count += 1\n",
    "            shop_count += 1\n",
    "            pool[4].remove(\"Jinx\")\n",
    "            if shop_count == 5:\n",
    "                gold += 2\n",
    "                shop_count = 0\n",
    "        else:\n",
    "            shop_count += 1\n",
    "            if shop_count == 5:\n",
    "                gold += 2\n",
    "                shop_count = 0\n",
    "            continue\n",
    "    gold_stats.append(gold)"
   ]
  },
  {
   "cell_type": "code",
   "execution_count": 5,
   "id": "8ab41236-34df-4a00-b19a-5bf36a6070bd",
   "metadata": {},
   "outputs": [
    {
     "data": {
      "image/png": "[encoded data removed]",
      "text/plain": [
       "<Figure size 640x480 with 1 Axes>"
      ]
     },
     "metadata": {},
     "output_type": "display_data"
    },
    {
     "name": "stdout",
     "output_type": "stream",
     "text": [
      "                    Average gold to reroll for 3-Star Jinx : 289.27108\n"
     ]
    }
   ],
   "source": [
    "plt.hist(gold_stats, bins=100, edgecolor='black', density=True)\n",
    "plt.title(\"Gold Usage Probability Distribution to Find 3-Star Jinx on Level 10\")\n",
    "plt.xlabel(\"Gold Spent\")\n",
    "plt.ylabel(\"Probability\")\n",
    "plt.show()\n",
    "\n",
    "print(f\"                    Average gold to reroll for 3-Star Jinx : {sum(gold_stats)/len(gold_stats)}\")"
   ]
  }
 ],
 "metadata": {
  "kernelspec": {
   "display_name": "Python 3 (ipykernel)",
   "language": "python",
   "name": "python3"
  },
  "language_info": {
   "codemirror_mode": {
    "name": "ipython",
    "version": 3
   },
   "file_extension": ".py",
   "mimetype": "text/x-python",
   "name": "python",
   "nbconvert_exporter": "python",
   "pygments_lexer": "ipython3",
   "version": "3.8.19"
  }
 },
 "nbformat": 4,
 "nbformat_minor": 5
}
